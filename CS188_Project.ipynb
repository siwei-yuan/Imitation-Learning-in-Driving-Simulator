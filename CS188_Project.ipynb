{
  "cells": [
    {
      "cell_type": "code",
      "execution_count": 15,
      "metadata": {
        "id": "MNtgNN3FF1q6",
        "colab": {
          "base_uri": "https://localhost:8080/"
        },
        "outputId": "5daf6d1d-2ed3-439f-f637-4fa465eecea2"
      },
      "outputs": [
        {
          "output_type": "stream",
          "name": "stdout",
          "text": [
            "Downloading...\n",
            "From: https://drive.google.com/uc?id=1YXp7HwhtdkU7F11QTZXsTPrT9jq3LDAn\n",
            "To: /content/dataset.tar.gz\n",
            "100% 28.5M/28.5M [00:00<00:00, 51.1MB/s]\n"
          ]
        }
      ],
      "source": [
        "\n",
        "!pip3 install --upgrade gdown --quiet\n",
        "#!gdown 16GYHdSWS3iMYwMPv5FpeDZN2rH7PR0F2 # this is the file ID of miniplaces dataset\n",
        "!gdown 1YXp7HwhtdkU7F11QTZXsTPrT9jq3LDAn\n",
        "# back-up commands (try the following it previous file id is overload)\n",
        "# !gdown 1CyIQOJienhNITwGcQ9h-nv8z6GOjV2HX\n"
      ]
    },
    {
      "cell_type": "code",
      "execution_count": 16,
      "metadata": {
        "id": "tB8tvZhIF1q9"
      },
      "outputs": [],
      "source": [
        "import os\n",
        "import tarfile\n",
        "from tqdm import tqdm\n",
        "import urllib.request\n",
        "\n",
        "def setup(folder_name='Week7'):\n",
        "  # Let's make our assignment directory\n",
        "  CS188_path = './'\n",
        "  os.makedirs(os.path.join(CS188_path, 'Week7', 'data'), exist_ok=True)\n",
        "  # Now, let's specify the assignment path we will be working with as the root.\n",
        "  root_dir = os.path.join(CS188_path, 'Week7')\n",
        "  # Open the tar.gz file\n",
        "  tar = tarfile.open(\"dataset.tar.gz\", \"r:gz\")\n",
        "  # Extract the file \"./Assignment2/data\" folder\n",
        "  total_size = sum(f.size for f in tar.getmembers())\n",
        "  with tqdm(total=total_size, unit=\"B\", unit_scale=True, desc=\"Extracting tar.gz file\") as pbar:\n",
        "      for member in tar.getmembers():\n",
        "          tar.extract(member, os.path.join(root_dir, 'data'))\n",
        "          pbar.update(member.size)\n",
        "  # Close the tar.gz file\n",
        "  tar.close()\n",
        "  return root_dir"
      ]
    },
    {
      "cell_type": "code",
      "execution_count": 17,
      "metadata": {
        "id": "wx-2pvciF1q-",
        "colab": {
          "base_uri": "https://localhost:8080/"
        },
        "outputId": "07c4979c-01eb-4617-92c3-43405a791047"
      },
      "outputs": [
        {
          "output_type": "stream",
          "name": "stderr",
          "text": [
            "Extracting tar.gz file: 100%|██████████| 28.4M/28.4M [00:00<00:00, 89.7MB/s]\n"
          ]
        }
      ],
      "source": [
        "\n",
        "root_dir = setup(folder_name='Week7')"
      ]
    },
    {
      "cell_type": "markdown",
      "metadata": {
        "id": "D4MyTph9F1q_"
      },
      "source": [
        "### Define the data transform\n"
      ]
    },
    {
      "cell_type": "code",
      "execution_count": 18,
      "metadata": {
        "id": "1v9w2JugF1rA"
      },
      "outputs": [],
      "source": [
        "from torchvision import transforms\n",
        "\n",
        "# Define data transformation\n",
        "# You can copy your data transform from Assignment2. \n",
        "# Notice we are resize images to 128x128 instead of 64x64.\n",
        "data_transform = transforms.Compose([\n",
        "    transforms.ToTensor(),\n",
        "    transforms.Normalize((0.485, 0.456, 0.406), (0.229, 0.224, 0.225))\n",
        "])\n"
      ]
    },
    {
      "cell_type": "markdown",
      "metadata": {
        "id": "YXrmPXGEF1rB"
      },
      "source": [
        "### Define the dataset and dataloader"
      ]
    },
    {
      "cell_type": "code",
      "execution_count": 41,
      "metadata": {
        "id": "KoHHge5YF1rB"
      },
      "outputs": [],
      "source": [
        "\n",
        "import os\n",
        "import torch\n",
        "from torch.utils.data import Dataset\n",
        "from PIL import Image\n",
        "import numpy as np\n",
        "\n",
        "class Metadrive(Dataset):\n",
        "    def __init__(self, root_dir, split, transform=None):\n",
        "        \n",
        "        assert split in ['train', 'val', 'test']\n",
        "        self.root_dir = root_dir\n",
        "        self.split = split\n",
        "        self.transform = transform\n",
        "        self.filenames = []\n",
        "\n",
        "        count = 0\n",
        "        # Iterate directory\n",
        "        for path in os.listdir(os.path.join(root_dir, 'dataset', split)):\n",
        "          if os.path.isfile(os.path.join(root_dir, 'dataset', split, path)):\n",
        "            self.filenames.append(path)\n",
        "\n",
        "    def __len__(self):\n",
        "        \n",
        "        return len(self.filenames)\n",
        "\n",
        "    def __getitem__(self, idx):\n",
        "        '''\n",
        "        Label returned is of the form: tuple((float)steering, (float)acceleration, (float)velocity)\n",
        "        '''\n",
        "        image = None\n",
        "        label = None\n",
        "\n",
        "        image_path = os.path.join(self.root_dir, 'dataset', self.split, self.filenames[idx])\n",
        "        image = Image.open(image_path)\n",
        "        if self.transform:\n",
        "          image = self.transform(image)\n",
        "        label = self.filenames[idx][1:-5]\n",
        "        label = label.split(', ')\n",
        "        steering = float(label[0])*100\n",
        "        acceleration = float(label[1])*10\n",
        "        return image, torch.Tensor([steering, acceleration])\n"
      ]
    },
    {
      "cell_type": "markdown",
      "metadata": {
        "id": "B_th2HTIF1rC"
      },
      "source": [
        "### Define the train method"
      ]
    },
    {
      "cell_type": "code",
      "execution_count": 46,
      "metadata": {
        "id": "kfX-uwDDF1rC"
      },
      "outputs": [],
      "source": [
        "def train(model, train_loader, val_loader, optimizer, criterion, device, num_epochs):\n",
        "    \"\"\"\n",
        "    Train the MLP classifier on the training set and evaluate it on the validation set every epoch.\n",
        "    \n",
        "    Args:\n",
        "        model (MLP): MLP classifier to train.\n",
        "        train_loader (torch.utils.data.DataLoader): Data loader for the training set.\n",
        "        val_loader (torch.utils.data.DataLoader): Data loader for the validation set.\n",
        "        optimizer (torch.optim.Optimizer): Optimizer to use for training.\n",
        "        criterion (callable): Loss function to use for training.\n",
        "        device (torch.device): Device to use for training.\n",
        "        num_epochs (int): Number of epochs to train the model.\n",
        "    \"\"\"\n",
        "    # Place model on device\n",
        "    model = model.to(device)\n",
        "\n",
        "    scheduler = torch.optim.lr_scheduler.StepLR(optimizer, step_size=1, gamma=0.5)\n",
        "    \n",
        "    for epoch in range(num_epochs):\n",
        "        model.train()  # Set model to training mode\n",
        "        \n",
        "        # Use tqdm to display a progress bar during training\n",
        "        with tqdm(total=len(train_loader), desc=f'Epoch {epoch + 1}/{num_epochs}') as pbar:\n",
        "            for inputs, labels in train_loader:\n",
        "                # Move inputs and labels to device\n",
        "                inputs = inputs.to(device)\n",
        "                labels = labels.to(device)\n",
        "                \n",
        "                # Zero out gradients\n",
        "                optimizer.zero_grad()\n",
        "                \n",
        "                # Compute the logits and loss\n",
        "                logits = model(inputs)\n",
        "                loss = criterion(logits, labels)\n",
        "                \n",
        "                # Backpropagate the loss\n",
        "                loss.backward()\n",
        "                \n",
        "                # Update the weights\n",
        "                optimizer.step()\n",
        "                \n",
        "                # Update the progress bar\n",
        "                pbar.update(1)\n",
        "                pbar.set_postfix(loss=loss.item())\n",
        "          \n",
        "        scheduler.step()\n",
        "        \n",
        "        # Evaluate the model on the validation set\n",
        "        avg_loss = evaluate(model, val_loader, criterion, device)\n",
        "        print(f'Validation set: Average loss = {avg_loss:.4f}')\n",
        "\n",
        "def evaluate(model, test_loader, criterion, device):\n",
        "    \"\"\"\n",
        "    Evaluate the MLP classifier on the test set.\n",
        "    \n",
        "    Args:\n",
        "        model (MLP): MLP classifier to evaluate.\n",
        "        test_loader (torch.utils.data.DataLoader): Data loader for the test set.\n",
        "        criterion (callable): Loss function to use for evaluation.\n",
        "        device (torch.device): Device to use for evaluation.\n",
        "        \n",
        "    Returns:\n",
        "        float: Average loss on the test set.\n",
        "        float: Accuracy on the test set.\n",
        "    \"\"\"\n",
        "    model.eval()  # Set model to evaluation mode\n",
        "    \n",
        "    with torch.no_grad():\n",
        "        total_loss = 0.0\n",
        "        \n",
        "        for inputs, labels in test_loader:\n",
        "            # Move inputs and labels to device\n",
        "            inputs = inputs.to(device)\n",
        "            labels = labels.to(device)\n",
        "            \n",
        "            # Compute the logits and loss\n",
        "            logits = model(inputs)\n",
        "            loss = criterion(logits, labels)\n",
        "            total_loss += loss.item()\n",
        "            \n",
        "            \n",
        "    # Compute the average loss and accuracy\n",
        "    avg_loss = total_loss / len(test_loader)\n",
        "    \n",
        "    return avg_loss"
      ]
    },
    {
      "cell_type": "code",
      "execution_count": 30,
      "metadata": {
        "id": "Pob9aqlkF1rF"
      },
      "outputs": [],
      "source": [
        "# Also, seed everything for reproducibility\n",
        "# code from https://gist.github.com/ihoromi4/b681a9088f348942b01711f251e5f964#file-seed_everything-py\n",
        "def seed_everything(seed: int):\n",
        "    import random, os\n",
        "    import numpy as np\n",
        "    import torch\n",
        "    random.seed(seed)\n",
        "    os.environ['PYTHONHASHSEED'] = str(seed)\n",
        "    np.random.seed(seed)\n",
        "    torch.manual_seed(seed)\n",
        "    torch.cuda.manual_seed(seed)\n",
        "    torch.backends.cudnn.deterministic = True\n",
        "    torch.backends.cudnn.benchmark = True"
      ]
    },
    {
      "cell_type": "code",
      "execution_count": 31,
      "metadata": {
        "id": "dMTQ7y7lF1rF",
        "colab": {
          "base_uri": "https://localhost:8080/"
        },
        "outputId": "ae205c7d-146a-4fc3-8c35-5137cc56b735"
      },
      "outputs": [
        {
          "output_type": "stream",
          "name": "stdout",
          "text": [
            "Using device: cuda. Good to go!\n"
          ]
        }
      ],
      "source": [
        "# Define the device to use for training\n",
        "device = torch.device('cuda' if torch.cuda.is_available() else 'cpu')\n",
        "if device == torch.device('cuda'):\n",
        "    print(f'Using device: {device}. Good to go!')\n",
        "else:\n",
        "    print('Please set GPU via Edit -> Notebook Settings.')"
      ]
    },
    {
      "cell_type": "code",
      "source": [
        "import torch\n",
        "from torch import nn\n",
        "import torch.nn.functional as F\n",
        "import numpy as np\n",
        "import cv2\n",
        "import torchvision.models as models\n",
        "class Resnet(nn.Module):\n",
        "    def __init__(self, mode='linear',pretrained=True):\n",
        "        super().__init__()\n",
        "        \"\"\"\n",
        "        use the resnet18 model from torchvision models. Remember to set pretrained as true\n",
        "        \n",
        "        mode has three options:\n",
        "        1) features: to extract features only, we do not want the last fully connected layer of \n",
        "            resnet18. Use nn.Identity() to replace this layer.\n",
        "        2) linear: For this model, we want to freeze resnet18 features, then train a linear \n",
        "            classifier which takes the features before FC (again we do not want \n",
        "            resnet18 FC). And then write our own FC layer: which takes in the features and \n",
        "            output scores of size 100 (because we have 100 categories).\n",
        "            Because we want to freeze resnet18 features, we have to iterate through parameters()\n",
        "            of our model, and manually set some parameters to requires_grad = False\n",
        "            Or use other methods to freeze the features\n",
        "        3) finetune: Same as 2), except that we we do not need to freeze the features and\n",
        "           can finetune on the pretrained resnet model.\n",
        "        \"\"\"\n",
        "        self.resnet = None\n",
        "        self.resnet = models.resnet18(pretrained = pretrained)\n",
        "\n",
        "        if mode == 'feature':\n",
        "          self.resnet.fc = nn.Identity()\n",
        "        \n",
        "        if mode == 'linear':\n",
        "          for param in self.resnet.parameters():\n",
        "            param.requires_grad = False\n",
        "          self.resnet.fc = nn.Linear(512, 2)\n",
        "\n",
        "        if mode == 'finetune':\n",
        "          for param in self.resnet.parameters():\n",
        "            param.requires_grad = True\n",
        "          self.resnet.fc = nn.Linear(512, 2)\n",
        "    #####################################################################################\n",
        "\n",
        "    def forward(self, x):\n",
        "        x = self.resnet(x)\n",
        "        return x\n",
        "    \n",
        "    def to(self,device):\n",
        "        return self.resnet.to(device=device)\n"
      ],
      "metadata": {
        "id": "sstf5tHfHK1M"
      },
      "execution_count": 33,
      "outputs": []
    },
    {
      "cell_type": "code",
      "source": [
        "seed_everything(0)\n",
        "\n",
        "# Define the model, optimizer, and criterion (loss_fn)\n",
        "model = Resnet(mode='linear',pretrained=True)\n",
        "\n",
        "optimizer = torch.optim.SGD(\n",
        "    model.parameters(), \n",
        "    lr=0.001, \n",
        "    momentum=0.9)\n",
        "\n",
        "\n",
        "criterion = nn.MSELoss()\n",
        "\n",
        "\n",
        "# Define the dataset and data transform with flatten functions appended\n",
        "data_dir = os.path.join(root_dir, 'data')\n",
        "\n",
        "train_dataset = Metadrive(\n",
        "    root_dir=data_dir, split='train', \n",
        "    transform=data_transform)\n",
        "\n",
        "val_dataset = Metadrive(\n",
        "    root_dir=data_dir, split='val', \n",
        "    transform=data_transform)\n",
        "\n",
        "# Define the batch size and number of workers\n",
        "batch_size = 64\n",
        "num_workers = 2\n",
        "\n",
        "# Define the data loaders\n",
        "train_loader = torch.utils.data.DataLoader(\n",
        "    train_dataset, batch_size=batch_size, num_workers=num_workers, shuffle=True)\n",
        "val_loader = torch.utils.data.DataLoader(\n",
        "    val_dataset, batch_size=batch_size, num_workers=num_workers, shuffle=False)\n",
        "\n",
        "# Train the model\n",
        "train(model, train_loader, val_loader, optimizer, criterion, device, num_epochs=20)"
      ],
      "metadata": {
        "colab": {
          "base_uri": "https://localhost:8080/"
        },
        "id": "kY9uLr3-IhHJ",
        "outputId": "b640a604-a680-49bc-fb2b-7689e9699359"
      },
      "execution_count": 47,
      "outputs": [
        {
          "output_type": "stream",
          "name": "stderr",
          "text": [
            "Epoch 1/20: 100%|██████████| 15/15 [00:02<00:00,  7.49it/s, loss=13.9]\n"
          ]
        },
        {
          "output_type": "stream",
          "name": "stdout",
          "text": [
            "Validation set: Average loss = 18.0364\n"
          ]
        },
        {
          "output_type": "stream",
          "name": "stderr",
          "text": [
            "Epoch 2/20: 100%|██████████| 15/15 [00:01<00:00, 11.60it/s, loss=10.6]\n"
          ]
        },
        {
          "output_type": "stream",
          "name": "stdout",
          "text": [
            "Validation set: Average loss = 16.7325\n"
          ]
        },
        {
          "output_type": "stream",
          "name": "stderr",
          "text": [
            "Epoch 3/20: 100%|██████████| 15/15 [00:01<00:00,  9.50it/s, loss=10.8]\n"
          ]
        },
        {
          "output_type": "stream",
          "name": "stdout",
          "text": [
            "Validation set: Average loss = 15.1718\n"
          ]
        },
        {
          "output_type": "stream",
          "name": "stderr",
          "text": [
            "Epoch 4/20: 100%|██████████| 15/15 [00:01<00:00, 11.57it/s, loss=14.3]\n"
          ]
        },
        {
          "output_type": "stream",
          "name": "stdout",
          "text": [
            "Validation set: Average loss = 14.9984\n"
          ]
        },
        {
          "output_type": "stream",
          "name": "stderr",
          "text": [
            "Epoch 5/20: 100%|██████████| 15/15 [00:01<00:00, 11.25it/s, loss=13]\n"
          ]
        },
        {
          "output_type": "stream",
          "name": "stdout",
          "text": [
            "Validation set: Average loss = 14.8996\n"
          ]
        },
        {
          "output_type": "stream",
          "name": "stderr",
          "text": [
            "Epoch 6/20: 100%|██████████| 15/15 [00:01<00:00, 11.75it/s, loss=13.6]\n"
          ]
        },
        {
          "output_type": "stream",
          "name": "stdout",
          "text": [
            "Validation set: Average loss = 14.9368\n"
          ]
        },
        {
          "output_type": "stream",
          "name": "stderr",
          "text": [
            "Epoch 7/20: 100%|██████████| 15/15 [00:01<00:00, 10.55it/s, loss=13.5]\n"
          ]
        },
        {
          "output_type": "stream",
          "name": "stdout",
          "text": [
            "Validation set: Average loss = 14.9915\n"
          ]
        },
        {
          "output_type": "stream",
          "name": "stderr",
          "text": [
            "Epoch 8/20: 100%|██████████| 15/15 [00:02<00:00,  7.16it/s, loss=8.45]\n"
          ]
        },
        {
          "output_type": "stream",
          "name": "stdout",
          "text": [
            "Validation set: Average loss = 14.9629\n"
          ]
        },
        {
          "output_type": "stream",
          "name": "stderr",
          "text": [
            "Epoch 9/20: 100%|██████████| 15/15 [00:01<00:00, 11.20it/s, loss=13]\n"
          ]
        },
        {
          "output_type": "stream",
          "name": "stdout",
          "text": [
            "Validation set: Average loss = 14.9363\n"
          ]
        },
        {
          "output_type": "stream",
          "name": "stderr",
          "text": [
            "Epoch 10/20: 100%|██████████| 15/15 [00:01<00:00, 11.23it/s, loss=17.5]\n"
          ]
        },
        {
          "output_type": "stream",
          "name": "stdout",
          "text": [
            "Validation set: Average loss = 14.9800\n"
          ]
        },
        {
          "output_type": "stream",
          "name": "stderr",
          "text": [
            "Epoch 11/20: 100%|██████████| 15/15 [00:01<00:00, 11.05it/s, loss=9.86]\n"
          ]
        },
        {
          "output_type": "stream",
          "name": "stdout",
          "text": [
            "Validation set: Average loss = 14.9511\n"
          ]
        },
        {
          "output_type": "stream",
          "name": "stderr",
          "text": [
            "Epoch 12/20: 100%|██████████| 15/15 [00:01<00:00, 10.97it/s, loss=9.9]\n"
          ]
        },
        {
          "output_type": "stream",
          "name": "stdout",
          "text": [
            "Validation set: Average loss = 14.9148\n"
          ]
        },
        {
          "output_type": "stream",
          "name": "stderr",
          "text": [
            "Epoch 13/20: 100%|██████████| 15/15 [00:01<00:00, 11.55it/s, loss=17.6]\n"
          ]
        },
        {
          "output_type": "stream",
          "name": "stdout",
          "text": [
            "Validation set: Average loss = 14.9508\n"
          ]
        },
        {
          "output_type": "stream",
          "name": "stderr",
          "text": [
            "Epoch 14/20: 100%|██████████| 15/15 [00:01<00:00, 11.27it/s, loss=13.2]\n"
          ]
        },
        {
          "output_type": "stream",
          "name": "stdout",
          "text": [
            "Validation set: Average loss = 14.8878\n"
          ]
        },
        {
          "output_type": "stream",
          "name": "stderr",
          "text": [
            "Epoch 15/20: 100%|██████████| 15/15 [00:02<00:00,  7.09it/s, loss=13.4]\n"
          ]
        },
        {
          "output_type": "stream",
          "name": "stdout",
          "text": [
            "Validation set: Average loss = 14.9031\n"
          ]
        },
        {
          "output_type": "stream",
          "name": "stderr",
          "text": [
            "Epoch 16/20: 100%|██████████| 15/15 [00:01<00:00, 11.19it/s, loss=10.5]\n"
          ]
        },
        {
          "output_type": "stream",
          "name": "stdout",
          "text": [
            "Validation set: Average loss = 14.8961\n"
          ]
        },
        {
          "output_type": "stream",
          "name": "stderr",
          "text": [
            "Epoch 17/20: 100%|██████████| 15/15 [00:01<00:00, 11.22it/s, loss=13.2]\n"
          ]
        },
        {
          "output_type": "stream",
          "name": "stdout",
          "text": [
            "Validation set: Average loss = 14.9074\n"
          ]
        },
        {
          "output_type": "stream",
          "name": "stderr",
          "text": [
            "Epoch 18/20: 100%|██████████| 15/15 [00:01<00:00, 11.44it/s, loss=11.2]\n"
          ]
        },
        {
          "output_type": "stream",
          "name": "stdout",
          "text": [
            "Validation set: Average loss = 14.9529\n"
          ]
        },
        {
          "output_type": "stream",
          "name": "stderr",
          "text": [
            "Epoch 19/20: 100%|██████████| 15/15 [00:01<00:00, 11.33it/s, loss=15.9]\n"
          ]
        },
        {
          "output_type": "stream",
          "name": "stdout",
          "text": [
            "Validation set: Average loss = 14.9137\n"
          ]
        },
        {
          "output_type": "stream",
          "name": "stderr",
          "text": [
            "Epoch 20/20: 100%|██████████| 15/15 [00:01<00:00, 11.27it/s, loss=15.7]\n"
          ]
        },
        {
          "output_type": "stream",
          "name": "stdout",
          "text": [
            "Validation set: Average loss = 14.9256\n"
          ]
        }
      ]
    }
  ],
  "metadata": {
    "accelerator": "GPU",
    "colab": {
      "provenance": []
    },
    "gpuClass": "premium",
    "kernelspec": {
      "display_name": "Python 3 (ipykernel)",
      "language": "python",
      "name": "python3"
    },
    "language_info": {
      "codemirror_mode": {
        "name": "ipython",
        "version": 3
      },
      "file_extension": ".py",
      "mimetype": "text/x-python",
      "name": "python",
      "nbconvert_exporter": "python",
      "pygments_lexer": "ipython3",
      "version": "3.9.0"
    }
  },
  "nbformat": 4,
  "nbformat_minor": 0
}