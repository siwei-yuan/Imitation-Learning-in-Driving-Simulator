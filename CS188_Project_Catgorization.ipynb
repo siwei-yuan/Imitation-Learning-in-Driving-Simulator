{
  "cells": [
    {
      "cell_type": "code",
      "execution_count": null,
      "metadata": {
        "id": "MNtgNN3FF1q6",
        "colab": {
          "base_uri": "https://localhost:8080/"
        },
        "outputId": "f8ea1b62-2794-40a8-e41e-87c8323c8937"
      },
      "outputs": [
        {
          "output_type": "stream",
          "name": "stdout",
          "text": [
            "Downloading...\n",
            "From: https://drive.google.com/uc?id=1YXp7HwhtdkU7F11QTZXsTPrT9jq3LDAn\n",
            "To: /content/dataset.tar.gz\n",
            "100% 28.5M/28.5M [00:00<00:00, 152MB/s]\n"
          ]
        }
      ],
      "source": [
        "\n",
        "!pip3 install --upgrade gdown --quiet\n",
        "#!gdown 16GYHdSWS3iMYwMPv5FpeDZN2rH7PR0F2 # this is the file ID of miniplaces dataset\n",
        "!gdown 1YXp7HwhtdkU7F11QTZXsTPrT9jq3LDAn\n",
        "# back-up commands (try the following it previous file id is overload)\n",
        "# !gdown 1CyIQOJienhNITwGcQ9h-nv8z6GOjV2HX\n"
      ]
    },
    {
      "cell_type": "code",
      "execution_count": null,
      "metadata": {
        "id": "tB8tvZhIF1q9"
      },
      "outputs": [],
      "source": [
        "import os\n",
        "import tarfile\n",
        "from tqdm import tqdm\n",
        "import urllib.request\n",
        "\n",
        "def setup(folder_name='Week7'):\n",
        "  # Let's make our assignment directory\n",
        "  CS188_path = './'\n",
        "  os.makedirs(os.path.join(CS188_path, 'Week7', 'data'), exist_ok=True)\n",
        "  # Now, let's specify the assignment path we will be working with as the root.\n",
        "  root_dir = os.path.join(CS188_path, 'Week7')\n",
        "  # Open the tar.gz file\n",
        "  tar = tarfile.open(\"dataset.tar.gz\", \"r:gz\")\n",
        "  # Extract the file \"./Assignment2/data\" folder\n",
        "  total_size = sum(f.size for f in tar.getmembers())\n",
        "  with tqdm(total=total_size, unit=\"B\", unit_scale=True, desc=\"Extracting tar.gz file\") as pbar:\n",
        "      for member in tar.getmembers():\n",
        "          tar.extract(member, os.path.join(root_dir, 'data'))\n",
        "          pbar.update(member.size)\n",
        "  # Close the tar.gz file\n",
        "  tar.close()\n",
        "  return root_dir"
      ]
    },
    {
      "cell_type": "code",
      "execution_count": null,
      "metadata": {
        "id": "wx-2pvciF1q-",
        "colab": {
          "base_uri": "https://localhost:8080/"
        },
        "outputId": "f8215bae-e823-45c6-e8be-3dbfa7004585"
      },
      "outputs": [
        {
          "output_type": "stream",
          "name": "stderr",
          "text": [
            "Extracting tar.gz file: 100%|██████████| 28.4M/28.4M [00:01<00:00, 16.8MB/s]\n"
          ]
        }
      ],
      "source": [
        "\n",
        "root_dir = setup(folder_name='Week7')"
      ]
    },
    {
      "cell_type": "markdown",
      "metadata": {
        "id": "D4MyTph9F1q_"
      },
      "source": [
        "### Define the data transform\n"
      ]
    },
    {
      "cell_type": "code",
      "execution_count": null,
      "metadata": {
        "id": "1v9w2JugF1rA"
      },
      "outputs": [],
      "source": [
        "from torchvision import transforms\n",
        "\n",
        "# Define data transformation\n",
        "# You can copy your data transform from Assignment2. \n",
        "# Notice we are resize images to 128x128 instead of 64x64.\n",
        "data_transform = transforms.Compose([\n",
        "    transforms.ToTensor(),\n",
        "    transforms.RandomCrop((96,96)),\n",
        "    transforms.Normalize((0.485, 0.456, 0.406), (0.229, 0.224, 0.225))\n",
        "])\n"
      ]
    },
    {
      "cell_type": "markdown",
      "metadata": {
        "id": "YXrmPXGEF1rB"
      },
      "source": [
        "### Define the dataset and dataloader"
      ]
    },
    {
      "cell_type": "code",
      "execution_count": null,
      "metadata": {
        "id": "KoHHge5YF1rB"
      },
      "outputs": [],
      "source": [
        "\n",
        "import os\n",
        "import torch\n",
        "from torch.utils.data import Dataset\n",
        "from PIL import Image\n",
        "import numpy as np\n",
        "\n",
        "class Metadrive(Dataset):\n",
        "    def __init__(self, root_dir, split, transform=None):\n",
        "        \n",
        "        assert split in ['train', 'val', 'test']\n",
        "        self.root_dir = root_dir\n",
        "        self.split = split\n",
        "        self.transform = transform\n",
        "        self.filenames = []\n",
        "        self.steering_angle = {0: [], 1: [], 2: []} #0:left 1:right 2:straight\n",
        "        self.accel = {0: [], 1: [], 2: []} #0:left 1:right 2:straight\n",
        "        self.label = []\n",
        "\n",
        "        count = 0\n",
        "        # Iterate directory\n",
        "        for path in os.listdir(os.path.join(root_dir, 'dataset', split)):\n",
        "          if os.path.isfile(os.path.join(root_dir, 'dataset', split, path)):\n",
        "            self.filenames.append(path)\n",
        "\n",
        "        for filename in self.filenames:\n",
        "          filename = filename[1:-5]\n",
        "          filename = filename.split(', ')\n",
        "          if float(filename[0])*100 > 10:\n",
        "            category = 0\n",
        "          elif float(filename[0])*100 < -10:\n",
        "            category = 1\n",
        "          else:\n",
        "            category = 2\n",
        "          self.label.append(category)\n",
        "          self.steering_angle[category].append(float(filename[0]))\n",
        "          self.accel[category].append(float(filename[1]))\n",
        "\n",
        "    def __len__(self):\n",
        "        \n",
        "        return len(self.filenames)\n",
        "\n",
        "    def __getitem__(self, idx):\n",
        "        '''\n",
        "        Label returned is of the form: tuple((float)steering, (float)acceleration, (float)velocity)\n",
        "        '''\n",
        "\n",
        "        image_path = os.path.join(self.root_dir, 'dataset', self.split, self.filenames[idx])\n",
        "        image = Image.open(image_path)\n",
        "        if self.transform:\n",
        "          image = self.transform(image)\n",
        "        return image, self.label[idx]\n",
        "\n",
        "    def get_average(self, category):\n",
        "      return sum(self.steering_angle[category])/len(self.steering_angle[category]), sum(self.accel[category])/len(self.accel[category])"
      ]
    },
    {
      "cell_type": "markdown",
      "metadata": {
        "id": "B_th2HTIF1rC"
      },
      "source": [
        "### Define the train method"
      ]
    },
    {
      "cell_type": "code",
      "execution_count": null,
      "metadata": {
        "id": "kfX-uwDDF1rC"
      },
      "outputs": [],
      "source": [
        "def train(model, train_loader, val_loader, optimizer, criterion, device, num_epochs):\n",
        "    \"\"\"\n",
        "    Train the MLP classifier on the training set and evaluate it on the validation set every epoch.\n",
        "    \n",
        "    Args:\n",
        "        model (MLP): MLP classifier to train.\n",
        "        train_loader (torch.utils.data.DataLoader): Data loader for the training set.\n",
        "        val_loader (torch.utils.data.DataLoader): Data loader for the validation set.\n",
        "        optimizer (torch.optim.Optimizer): Optimizer to use for training.\n",
        "        criterion (callable): Loss function to use for training.\n",
        "        device (torch.device): Device to use for training.\n",
        "        num_epochs (int): Number of epochs to train the model.\n",
        "    \"\"\"\n",
        "    # Place model on device\n",
        "    model = model.to(device)\n",
        "\n",
        "    #scheduler = torch.optim.lr_scheduler.StepLR(optimizer, step_size=1, gamma=0.001)\n",
        "    \n",
        "    for epoch in range(num_epochs):\n",
        "        model.train()  # Set model to training mode\n",
        "        \n",
        "        # Use tqdm to display a progress bar during training\n",
        "        with tqdm(total=len(train_loader), desc=f'Epoch {epoch + 1}/{num_epochs}') as pbar:\n",
        "            for inputs, labels in train_loader:\n",
        "                # Move inputs and labels to device\n",
        "                inputs = inputs.to(device)\n",
        "                labels = labels.to(device)\n",
        "                \n",
        "                # Zero out gradients\n",
        "                optimizer.zero_grad()\n",
        "                \n",
        "                # Compute the logits and loss\n",
        "                logits = model(inputs)\n",
        "                loss = criterion(logits, labels)\n",
        "                \n",
        "                # Backpropagate the loss\n",
        "                loss.backward()\n",
        "                \n",
        "                # Update the weights\n",
        "                optimizer.step()\n",
        "                \n",
        "                # Update the progress bar\n",
        "                pbar.update(1)\n",
        "                pbar.set_postfix(loss=loss.item())\n",
        "          \n",
        "        #scheduler.step()\n",
        "        \n",
        "        # Evaluate the model on the validation set\n",
        "        avg_loss, accuracy = evaluate(model, val_loader, criterion, device)\n",
        "        print(f'Validation set: Average loss = {avg_loss:.4f}, Accuracy = {accuracy:.4f}')\n",
        "\n",
        "def evaluate(model, test_loader, criterion, device):\n",
        "    \"\"\"\n",
        "    Evaluate the MLP classifier on the test set.\n",
        "    \n",
        "    Args:\n",
        "        model (MLP): MLP classifier to evaluate.\n",
        "        test_loader (torch.utils.data.DataLoader): Data loader for the test set.\n",
        "        criterion (callable): Loss function to use for evaluation.\n",
        "        device (torch.device): Device to use for evaluation.\n",
        "        \n",
        "    Returns:\n",
        "        float: Average loss on the test set.\n",
        "        float: Accuracy on the test set.\n",
        "    \"\"\"\n",
        "    model.eval()  # Set model to evaluation mode\n",
        "    \n",
        "    with torch.no_grad():\n",
        "        total_loss = 0.0\n",
        "        num_correct = 0\n",
        "        num_samples = 0\n",
        "        \n",
        "        for inputs, labels in test_loader:\n",
        "            # Move inputs and labels to device\n",
        "            inputs = inputs.to(device)\n",
        "            labels = labels.to(device)\n",
        "            \n",
        "            # Compute the logits and loss\n",
        "            logits = model(inputs)\n",
        "            loss = criterion(logits, labels)\n",
        "            total_loss += loss.item()\n",
        "\n",
        "            # Compute the accuracy\n",
        "            _, predictions = torch.max(logits, dim=1)\n",
        "            num_correct += (predictions == labels).sum().item()\n",
        "            num_samples += len(inputs)\n",
        "            \n",
        "            \n",
        "    # Compute the average loss and accuracy\n",
        "    avg_loss = total_loss / len(test_loader)\n",
        "    accuracy = num_correct / num_samples\n",
        "    \n",
        "    return avg_loss, accuracy"
      ]
    },
    {
      "cell_type": "code",
      "execution_count": null,
      "metadata": {
        "id": "Pob9aqlkF1rF"
      },
      "outputs": [],
      "source": [
        "# Also, seed everything for reproducibility\n",
        "# code from https://gist.github.com/ihoromi4/b681a9088f348942b01711f251e5f964#file-seed_everything-py\n",
        "def seed_everything(seed: int):\n",
        "    import random, os\n",
        "    import numpy as np\n",
        "    import torch\n",
        "    random.seed(seed)\n",
        "    os.environ['PYTHONHASHSEED'] = str(seed)\n",
        "    np.random.seed(seed)\n",
        "    torch.manual_seed(seed)\n",
        "    torch.cuda.manual_seed(seed)\n",
        "    torch.backends.cudnn.deterministic = True\n",
        "    torch.backends.cudnn.benchmark = True"
      ]
    },
    {
      "cell_type": "code",
      "execution_count": null,
      "metadata": {
        "id": "dMTQ7y7lF1rF",
        "colab": {
          "base_uri": "https://localhost:8080/"
        },
        "outputId": "f5e62f8c-6d2c-48e4-bde9-ab2033840745"
      },
      "outputs": [
        {
          "output_type": "stream",
          "name": "stdout",
          "text": [
            "Using device: cuda. Good to go!\n"
          ]
        }
      ],
      "source": [
        "# Define the device to use for training\n",
        "device = torch.device('cuda' if torch.cuda.is_available() else 'cpu')\n",
        "if device == torch.device('cuda'):\n",
        "    print(f'Using device: {device}. Good to go!')\n",
        "else:\n",
        "    print('Please set GPU via Edit -> Notebook Settings.')"
      ]
    },
    {
      "cell_type": "code",
      "source": [
        "import torch\n",
        "from torch import nn\n",
        "import torch.nn.functional as F\n",
        "import numpy as np\n",
        "import cv2\n",
        "import torchvision.models as models\n",
        "class Resnet(nn.Module):\n",
        "    def __init__(self, mode='linear',pretrained=True):\n",
        "        super().__init__()\n",
        "        \"\"\"\n",
        "        use the resnet18 model from torchvision models. Remember to set pretrained as true\n",
        "        \n",
        "        mode has three options:\n",
        "        1) features: to extract features only, we do not want the last fully connected layer of \n",
        "            resnet18. Use nn.Identity() to replace this layer.\n",
        "        2) linear: For this model, we want to freeze resnet18 features, then train a linear \n",
        "            classifier which takes the features before FC (again we do not want \n",
        "            resnet18 FC). And then write our own FC layer: which takes in the features and \n",
        "            output scores of size 100 (because we have 100 categories).\n",
        "            Because we want to freeze resnet18 features, we have to iterate through parameters()\n",
        "            of our model, and manually set some parameters to requires_grad = False\n",
        "            Or use other methods to freeze the features\n",
        "        3) finetune: Same as 2), except that we we do not need to freeze the features and\n",
        "           can finetune on the pretrained resnet model.\n",
        "        \"\"\"\n",
        "        self.resnet = None\n",
        "        self.resnet = models.resnet18(pretrained = pretrained)\n",
        "\n",
        "        if mode == 'feature':\n",
        "          self.resnet.fc = nn.Identity()\n",
        "        \n",
        "        if mode == 'linear':\n",
        "          for param in self.resnet.parameters():\n",
        "            param.requires_grad = False\n",
        "          self.resnet.fc = nn.Linear(512, 3)\n",
        "\n",
        "        if mode == 'finetune':\n",
        "          for param in self.resnet.parameters():\n",
        "            param.requires_grad = True\n",
        "          self.resnet.fc = nn.Linear(512, 3)\n",
        "    #####################################################################################\n",
        "\n",
        "    def forward(self, x):\n",
        "\n",
        "        return self.resnet(x)\n",
        "    \n",
        "    def to(self,device):\n",
        "        return self.resnet.to(device=device)\n"
      ],
      "metadata": {
        "id": "sstf5tHfHK1M"
      },
      "execution_count": null,
      "outputs": []
    },
    {
      "cell_type": "code",
      "source": [
        "seed_everything(0)\n",
        "\n",
        "# Define the model, optimizer, and criterion (loss_fn)\n",
        "model = Resnet(mode='finetune',pretrained=True)\n",
        "\n",
        "# optimizer = torch.optim.SGD(\n",
        "#     model.parameters(), \n",
        "#     lr=0.001, \n",
        "#     momentum=0.9)\n",
        "\n",
        "optimizer = torch.optim.SGD(model.resnet.fc.parameters(), lr=0.001, momentum=0.9)\n",
        "for name, param in model.named_parameters():\n",
        "    if param.requires_grad and 'fc' not in name:\n",
        "        optimizer.add_param_group({'params': param, 'lr':0.0001})\n",
        "\n",
        "criterion = nn.CrossEntropyLoss()\n",
        "\n",
        "# Define the dataset and data transform with flatten functions appended\n",
        "data_dir = os.path.join(root_dir, 'data')\n",
        "\n",
        "train_dataset = Metadrive(\n",
        "    root_dir=data_dir, split='train', \n",
        "    transform=data_transform)\n",
        "\n",
        "val_dataset = Metadrive(\n",
        "    root_dir=data_dir, split='val', \n",
        "    transform=data_transform)\n",
        "\n",
        "# Define the batch size and number of workers\n",
        "batch_size = 64\n",
        "num_workers = 2\n",
        "\n",
        "# Define the data loaders\n",
        "train_loader = torch.utils.data.DataLoader(\n",
        "    train_dataset, batch_size=batch_size, num_workers=num_workers, shuffle=True)\n",
        "val_loader = torch.utils.data.DataLoader(\n",
        "    val_dataset, batch_size=batch_size, num_workers=num_workers, shuffle=False)\n",
        "\n",
        "# Train the model\n",
        "train(model, train_loader, val_loader, optimizer, criterion, device, num_epochs=9)"
      ],
      "metadata": {
        "colab": {
          "base_uri": "https://localhost:8080/"
        },
        "id": "kY9uLr3-IhHJ",
        "outputId": "0c900775-f485-4db4-afd4-d69cd6a66e49"
      },
      "execution_count": null,
      "outputs": [
        {
          "output_type": "stream",
          "name": "stderr",
          "text": [
            "/usr/local/lib/python3.8/dist-packages/torchvision/models/_utils.py:208: UserWarning: The parameter 'pretrained' is deprecated since 0.13 and may be removed in the future, please use 'weights' instead.\n",
            "  warnings.warn(\n",
            "/usr/local/lib/python3.8/dist-packages/torchvision/models/_utils.py:223: UserWarning: Arguments other than a weight enum or `None` for 'weights' are deprecated since 0.13 and may be removed in the future. The current behavior is equivalent to passing `weights=ResNet18_Weights.IMAGENET1K_V1`. You can also use `weights=ResNet18_Weights.DEFAULT` to get the most up-to-date weights.\n",
            "  warnings.warn(msg)\n",
            "Epoch 1/9: 100%|██████████| 15/15 [00:01<00:00, 10.32it/s, loss=0.415]\n"
          ]
        },
        {
          "output_type": "stream",
          "name": "stdout",
          "text": [
            "Validation set: Average loss = 0.6001, Accuracy = 0.8636\n"
          ]
        },
        {
          "output_type": "stream",
          "name": "stderr",
          "text": [
            "Epoch 2/9: 100%|██████████| 15/15 [00:01<00:00, 10.57it/s, loss=0.446]\n"
          ]
        },
        {
          "output_type": "stream",
          "name": "stdout",
          "text": [
            "Validation set: Average loss = 0.5048, Accuracy = 0.8409\n"
          ]
        },
        {
          "output_type": "stream",
          "name": "stderr",
          "text": [
            "Epoch 3/9: 100%|██████████| 15/15 [00:01<00:00, 10.41it/s, loss=0.411]\n"
          ]
        },
        {
          "output_type": "stream",
          "name": "stdout",
          "text": [
            "Validation set: Average loss = 0.5207, Accuracy = 0.8068\n"
          ]
        },
        {
          "output_type": "stream",
          "name": "stderr",
          "text": [
            "Epoch 4/9: 100%|██████████| 15/15 [00:02<00:00,  6.92it/s, loss=0.373]\n"
          ]
        },
        {
          "output_type": "stream",
          "name": "stdout",
          "text": [
            "Validation set: Average loss = 0.4378, Accuracy = 0.8636\n"
          ]
        },
        {
          "output_type": "stream",
          "name": "stderr",
          "text": [
            "Epoch 5/9: 100%|██████████| 15/15 [00:01<00:00, 10.75it/s, loss=0.501]\n"
          ]
        },
        {
          "output_type": "stream",
          "name": "stdout",
          "text": [
            "Validation set: Average loss = 0.4240, Accuracy = 0.8409\n"
          ]
        },
        {
          "output_type": "stream",
          "name": "stderr",
          "text": [
            "Epoch 6/9: 100%|██████████| 15/15 [00:01<00:00, 10.90it/s, loss=0.292]\n"
          ]
        },
        {
          "output_type": "stream",
          "name": "stdout",
          "text": [
            "Validation set: Average loss = 0.3326, Accuracy = 0.8523\n"
          ]
        },
        {
          "output_type": "stream",
          "name": "stderr",
          "text": [
            "Epoch 7/9: 100%|██████████| 15/15 [00:01<00:00, 10.68it/s, loss=0.44]\n"
          ]
        },
        {
          "output_type": "stream",
          "name": "stdout",
          "text": [
            "Validation set: Average loss = 0.3705, Accuracy = 0.8750\n"
          ]
        },
        {
          "output_type": "stream",
          "name": "stderr",
          "text": [
            "Epoch 8/9: 100%|██████████| 15/15 [00:01<00:00, 10.70it/s, loss=0.289]\n"
          ]
        },
        {
          "output_type": "stream",
          "name": "stdout",
          "text": [
            "Validation set: Average loss = 0.3555, Accuracy = 0.8750\n"
          ]
        },
        {
          "output_type": "stream",
          "name": "stderr",
          "text": [
            "Epoch 9/9: 100%|██████████| 15/15 [00:01<00:00, 10.77it/s, loss=0.308]\n"
          ]
        },
        {
          "output_type": "stream",
          "name": "stdout",
          "text": [
            "Validation set: Average loss = 0.3545, Accuracy = 0.8864\n"
          ]
        }
      ]
    },
    {
      "cell_type": "code",
      "source": [
        "import matplotlib.pyplot as plt\n",
        "\n",
        "for path in os.listdir(os.path.join(data_dir, 'dataset', 'val')):\n",
        "    if os.path.isfile(os.path.join(data_dir, 'dataset', 'val', path)):\n",
        "      image_path = os.path.join(data_dir, 'dataset', 'val', path)\n",
        "\n",
        "      image_path = \"/content/Week7/data/dataset/val/(0.10624197352048775, -0.0027929785415545805, 29.14923399838864).png\"\n",
        "\n",
        "      image = Image.open(image_path)\n",
        "\n",
        "      data_transform = transforms.Compose([\n",
        "          transforms.ToTensor(),\n",
        "          transforms.CenterCrop((96,96)),\n",
        "          transforms.Normalize((0.485, 0.456, 0.406), (0.229, 0.224, 0.225))\n",
        "      ])\n",
        "\n",
        "      image = data_transform(image).cuda()\n",
        "\n",
        "      image = torch.unsqueeze(image, 0)\n",
        "\n",
        "      res = model(image)\n",
        "\n",
        "\n",
        "\n",
        "      print(res)\n",
        "\n",
        "      break"
      ],
      "metadata": {
        "colab": {
          "base_uri": "https://localhost:8080/"
        },
        "id": "iDC_6Ez2gG9q",
        "outputId": "e60de3c3-36df-4af3-81c9-cdda90b39273"
      },
      "execution_count": null,
      "outputs": [
        {
          "output_type": "stream",
          "name": "stdout",
          "text": [
            "tensor([[ 0.6871, -2.7549,  0.5548]], device='cuda:0',\n",
            "       grad_fn=<AddmmBackward0>)\n"
          ]
        }
      ]
    },
    {
      "cell_type": "code",
      "source": [
        "PATH = \"model_categorize_revised.pt\"\n",
        "# torch.save({\n",
        "#     # 'epoch': EPOCH,\n",
        "#     'model_state_dict': model.state_dict(),\n",
        "#     # 'optimizer_state_dict': optimizer.state_dict(),\n",
        "#     # 'loss': LOSS,\n",
        "# }, PATH)\n",
        "\n",
        "torch.save(model.state_dict(), PATH)"
      ],
      "metadata": {
        "id": "0SfBGW9BA7go"
      },
      "execution_count": null,
      "outputs": []
    },
    {
      "cell_type": "code",
      "source": [
        "print(train_dataset.get_average(0))\n",
        "print(train_dataset.get_average(1))\n",
        "print(train_dataset.get_average(2))\n"
      ],
      "metadata": {
        "colab": {
          "base_uri": "https://localhost:8080/"
        },
        "id": "ypPuWd2dkKfY",
        "outputId": "03fea4e4-17cf-4a0f-fba2-d054ba45d501"
      },
      "execution_count": null,
      "outputs": [
        {
          "output_type": "stream",
          "name": "stdout",
          "text": [
            "(0.12388312854632436, 0.2091152917264203)\n",
            "(-0.12438725769093287, 0.34663663748581514)\n",
            "(-0.00500231837265083, 0.3247432458997098)\n"
          ]
        }
      ]
    }
  ],
  "metadata": {
    "accelerator": "GPU",
    "colab": {
      "provenance": []
    },
    "gpuClass": "standard",
    "kernelspec": {
      "display_name": "Python 3 (ipykernel)",
      "language": "python",
      "name": "python3"
    },
    "language_info": {
      "codemirror_mode": {
        "name": "ipython",
        "version": 3
      },
      "file_extension": ".py",
      "mimetype": "text/x-python",
      "name": "python",
      "nbconvert_exporter": "python",
      "pygments_lexer": "ipython3",
      "version": "3.9.0"
    }
  },
  "nbformat": 4,
  "nbformat_minor": 0
}